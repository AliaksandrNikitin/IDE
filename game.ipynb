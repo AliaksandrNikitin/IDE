{
 "cells": [
  {
   "cell_type": "markdown",
   "metadata": {},
   "source": [
    "# Игра угадай число"
   ]
  },
  {
   "cell_type": "code",
   "execution_count": 3,
   "metadata": {},
   "outputs": [],
   "source": [
    "from game_v2 import score_game\n",
    "from game_v2 import random_predict"
   ]
  },
  {
   "cell_type": "markdown",
   "metadata": {},
   "source": [
    "## Угадываем рандомно"
   ]
  },
  {
   "cell_type": "code",
   "execution_count": 4,
   "metadata": {},
   "outputs": [
    {
     "name": "stdout",
     "output_type": "stream",
     "text": [
      "Ваш алгоритм угадывает число в среднем за:101 попыток\n"
     ]
    },
    {
     "data": {
      "text/plain": [
       "101"
      ]
     },
     "execution_count": 4,
     "metadata": {},
     "output_type": "execute_result"
    }
   ],
   "source": [
    "score_game(random_predict)"
   ]
  },
  {
   "cell_type": "code",
   "execution_count": 1,
   "metadata": {},
   "outputs": [
    {
     "name": "stdout",
     "output_type": "stream",
     "text": [
      "Загадано число от 1 до 100\n",
      "Угадываемое число меньше 50\n",
      "Алгоритм бинарного поиска рекомендует вам число:25\n",
      "Угадываемое число меньше 25\n",
      "Алгоритм бинарного поиска рекомендует вам число:12\n",
      "Угадываемое число меньше 12\n",
      "Алгоритм бинарного поиска рекомендует вам число:6\n",
      "Угадываемое число больше 6\n",
      "Алгоритм бинарного поиска рекомендует вам число:9\n",
      "Вы угадали число 9 за 5 попыток.\n"
     ]
    }
   ],
   "source": [
    "import numpy as np\n",
    "\n",
    "count = 0\n",
    "number = np.random.randint(1, 101)\n",
    "print(\"Загадано число от 1 до 100\")\n",
    "min = 0\n",
    "max = 100\n",
    "while True:\n",
    "    predict = round((min+max)/2)\n",
    "    #predict = int(input())\n",
    "    count += 1\n",
    "    if number == predict:\n",
    "        break\n",
    "    elif number > predict:\n",
    "        min = predict\n",
    "        print(f\"Угадываемое число больше {predict}\")\n",
    "        print(f'Алгоритм бинарного поиска рекомендует вам число:{round((max + min) / 2)}')\n",
    "    elif number < predict:\n",
    "        max = predict\n",
    "        print(f\"Угадываемое число меньше {predict}\")\n",
    "        print(f'Алгоритм бинарного поиска рекомендует вам число:{round((max+min)/2)}')\n",
    "\n",
    "\n",
    "print(f\"Вы угадали число {number} за {count} попыток.\")"
   ]
  }
 ],
 "metadata": {
  "kernelspec": {
   "display_name": "Python 3.9.13 64-bit",
   "language": "python",
   "name": "python3"
  },
  "language_info": {
   "codemirror_mode": {
    "name": "ipython",
    "version": 3
   },
   "file_extension": ".py",
   "mimetype": "text/x-python",
   "name": "python",
   "nbconvert_exporter": "python",
   "pygments_lexer": "ipython3",
   "version": "3.9.13"
  },
  "orig_nbformat": 4,
  "vscode": {
   "interpreter": {
    "hash": "6c88db4ea48888f0ae44b7ea85fbc81490ea78296092127563adb2aa673f4b98"
   }
  }
 },
 "nbformat": 4,
 "nbformat_minor": 2
}
